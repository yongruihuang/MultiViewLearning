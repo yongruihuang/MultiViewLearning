{
 "cells": [
  {
   "cell_type": "code",
   "execution_count": 1,
   "metadata": {},
   "outputs": [],
   "source": [
    "import pandas as pd\n",
    "import numpy as np\n",
    "import datetime\n",
    "import pickle\n",
    "import logging\n",
    "LOG_FORMAT = \"%(asctime)s - %(levelname)s - %(message)s\"\n",
    "logging.basicConfig(level=logging.INFO, format=LOG_FORMAT)\n",
    "from tqdm import tqdm_notebook as tqdm\n",
    "import time\n",
    "import IPython.display as ipd\n"
   ]
  },
  {
   "cell_type": "markdown",
   "metadata": {},
   "source": [
    "# df_master"
   ]
  },
  {
   "cell_type": "code",
   "execution_count": 26,
   "metadata": {},
   "outputs": [],
   "source": [
    "df_master_records = pd.read_csv('../data/202002/master_records.csv')\n",
    "df_map_income = pd.read_csv('../data/202002/map_income.csv')\n",
    "mp_income_number = {}\n",
    "for income, real_money in zip(df_map_income['income'], df_map_income['近12个月月收入平均区间']):\n",
    "    real_money = str(real_money)\n",
    "    two_ends = real_money.split('-')\n",
    "    min_money = float(two_ends[0].replace('+', ''))\n",
    "    if len(two_ends) > 1:\n",
    "        mp_income_number[income] = [min_money, two_ends[1]] \n",
    "    else:\n",
    "        mp_income_number[income] = [min_money, min_money] \n",
    "df_income_map = pd.DataFrame(pd.DataFrame(mp_income_number).T)\n",
    "df_income_map.columns = ['min_income', 'max_income']\n",
    "df_master_records = pd.merge(df_master_records, df_income_map, how = 'left', left_on = 'income', right_index = True)\n",
    "\n",
    "df_master_records['loan_date'] = pd.to_datetime(df_master_records['loan_date'], format='%Y%m%d', errors='ignore')\n",
    "loan_sequence = pd.read_csv('../data/202002/loan_sequence.csv')\n",
    "loan_sequence.index = loan_sequence.id\n",
    "df_master_records.index = df_master_records.id\n",
    "df_master_records['loan_sequence'] = loan_sequence['loan_sequence']\n",
    "\n",
    "target_update_0514 = pd.read_csv('../data/202005/target_update_0514.csv')\n",
    "target_update_0514.index = target_update_0514.id\n",
    "df_master_records = pd.merge(df_master_records, target_update_0514, how = 'left', left_index = True, right_index = True)\n",
    "df_master_records = df_master_records.drop(['id_x', 'id_y', 'Unnamed: 11'], axis = 1)\n",
    "pickle.dump(df_master_records, open('../data_sortout/df_master_records.pickle', 'wb'))"
   ]
  },
  {
   "cell_type": "markdown",
   "metadata": {},
   "source": [
    "# app_install_list"
   ]
  },
  {
   "cell_type": "code",
   "execution_count": 2,
   "metadata": {},
   "outputs": [],
   "source": [
    "df_app_install_records = pd.read_csv('../data/202002/app_installed_records.csv', header=None, names=['id', 'loan_date', 'pkg', 'date'])\n",
    "df_app_install_records['loan_date'] = pd.to_datetime(df_app_install_records['loan_date'], format='%Y%m%d', errors='ignore')\n",
    "from sklearn import preprocessing\n",
    "le = preprocessing.LabelEncoder()\n",
    "pkg_id = le.fit_transform(df_app_install_records['pkg'])\n",
    "df_app_install_records['pkg_id'] = pkg_id\n",
    "df_app_install_records['pkg_id'] = df_app_install_records['pkg_id'] + 1"
   ]
  },
  {
   "cell_type": "code",
   "execution_count": 12,
   "metadata": {},
   "outputs": [
    {
     "name": "stderr",
     "output_type": "stream",
     "text": [
      "2020-08-24 14:46:44,125 - INFO - start se_id_install_list\n",
      "2020-08-24 14:46:58,178 - INFO - finish se_id_install_list\n"
     ]
    }
   ],
   "source": [
    "pickle.dump(le.classes_, open('../data_sortout/mp_install_list_pkg_id2pkg.pickle', 'wb'))\n",
    "logging.info('start se_id_install_list')\n",
    "se_id_install_list = df_app_install_records.groupby('id').apply(lambda x : list(x['pkg_id']))\n",
    "pickle.dump(se_id_install_list, open('../data_sortout/se_id_install_list.pickle', 'wb'))\n",
    "logging.info('finish se_id_install_list')"
   ]
  },
  {
   "cell_type": "markdown",
   "metadata": {},
   "source": [
    "# app install behave"
   ]
  },
  {
   "cell_type": "code",
   "execution_count": 2,
   "metadata": {},
   "outputs": [],
   "source": [
    "df_install_behave = pd.read_csv('../data/202002/app_inunstall_records.csv', header=None, names=['id', 'loan_date', 'pkg', 'date', 'action_type'])\n",
    "df_install_behave['loan_date'] = pd.to_datetime(df_install_behave['loan_date'], format='%Y%m%d', errors='ignore')\n",
    "df_install_behave['date'] = pd.to_datetime(df_install_behave['date'], format='%Y%m%d', errors='ignore')\n",
    "df_install_behave_sort = df_install_behave.sort_values(by = ['date'])"
   ]
  },
  {
   "cell_type": "code",
   "execution_count": 3,
   "metadata": {},
   "outputs": [],
   "source": [
    "df_install_behave_sort_less = df_install_behave_sort[df_install_behave_sort.loan_date > df_install_behave_sort.date]"
   ]
  },
  {
   "cell_type": "code",
   "execution_count": 4,
   "metadata": {},
   "outputs": [
    {
     "data": {
      "text/plain": [
       "((26896240, 5), (54811025, 5))"
      ]
     },
     "execution_count": 4,
     "metadata": {},
     "output_type": "execute_result"
    }
   ],
   "source": [
    "df_install_behave_sort_less.shape, df_install_behave_sort.shape"
   ]
  },
  {
   "cell_type": "code",
   "execution_count": 5,
   "metadata": {},
   "outputs": [
    {
     "data": {
      "text/plain": [
       "(197737, 288083)"
      ]
     },
     "execution_count": 5,
     "metadata": {},
     "output_type": "execute_result"
    }
   ],
   "source": [
    "len(set(df_install_behave_sort_less.id)), len(set(df_install_behave_sort.id)),"
   ]
  },
  {
   "cell_type": "code",
   "execution_count": 6,
   "metadata": {},
   "outputs": [],
   "source": [
    "df_install_behave_sort = df_install_behave_sort_less"
   ]
  },
  {
   "cell_type": "code",
   "execution_count": 7,
   "metadata": {},
   "outputs": [],
   "source": [
    "from sklearn import preprocessing\n",
    "le = preprocessing.LabelEncoder()\n",
    "pkg_id = le.fit_transform(df_install_behave_sort['pkg'])\n",
    "pickle.dump(le.classes_, open('../data_sortout/mp_install_behave_pkg_id2pkg.pickle', 'wb'))"
   ]
  },
  {
   "cell_type": "code",
   "execution_count": 9,
   "metadata": {},
   "outputs": [],
   "source": [
    "df_install_behave_sort['pkg_id'] = pkg_id + 1"
   ]
  },
  {
   "cell_type": "code",
   "execution_count": 10,
   "metadata": {},
   "outputs": [
    {
     "name": "stderr",
     "output_type": "stream",
     "text": [
      "2020-08-24 14:58:25,292 - INFO - start df_install_behave_sort\n",
      "2020-08-24 15:03:26,004 - INFO - finish df_install_behave_sort\n"
     ]
    }
   ],
   "source": [
    "logging.info('start df_install_behave_sort')\n",
    "df_install_behave = df_install_behave_sort.groupby('id').apply(lambda x : pd.Series({\n",
    "    'pkg_id' : list(x['pkg_id'].values),\n",
    "    'date' : list(x['date'].values),\n",
    "    'action' : list(x['action_type'].map({'install': 1, 'unstall':0}) ),\n",
    "}))\n",
    "logging.info('finish df_install_behave_sort')\n"
   ]
  },
  {
   "cell_type": "code",
   "execution_count": 5,
   "metadata": {},
   "outputs": [
    {
     "data": {
      "text/html": [
       "<div>\n",
       "<style scoped>\n",
       "    .dataframe tbody tr th:only-of-type {\n",
       "        vertical-align: middle;\n",
       "    }\n",
       "\n",
       "    .dataframe tbody tr th {\n",
       "        vertical-align: top;\n",
       "    }\n",
       "\n",
       "    .dataframe thead th {\n",
       "        text-align: right;\n",
       "    }\n",
       "</style>\n",
       "<table border=\"1\" class=\"dataframe\">\n",
       "  <thead>\n",
       "    <tr style=\"text-align: right;\">\n",
       "      <th></th>\n",
       "      <th>pkg_id</th>\n",
       "      <th>date</th>\n",
       "      <th>action</th>\n",
       "    </tr>\n",
       "    <tr>\n",
       "      <th>id</th>\n",
       "      <th></th>\n",
       "      <th></th>\n",
       "      <th></th>\n",
       "    </tr>\n",
       "  </thead>\n",
       "  <tbody>\n",
       "    <tr>\n",
       "      <th>1</th>\n",
       "      <td>[60891, 140058, 61058, 129506, 211465, 142427,...</td>\n",
       "      <td>[2018-03-30T00:00:00.000000000, 2018-03-30T00:...</td>\n",
       "      <td>[1, 1, 1, -1, 1, 1, -1, 1, -1, 1, -1, -1, -1, ...</td>\n",
       "    </tr>\n",
       "    <tr>\n",
       "      <th>2</th>\n",
       "      <td>[271118, 277281, 78310, 78310, 250267, 210170,...</td>\n",
       "      <td>[2019-05-23T00:00:00.000000000, 2019-05-23T00:...</td>\n",
       "      <td>[1, -1, -1, 1, 1, 1, -1, 1, 1, 1, 1, 1, 1, 1, ...</td>\n",
       "    </tr>\n",
       "    <tr>\n",
       "      <th>3</th>\n",
       "      <td>[283371, 129506, 259322, 283371, 259322, 25932...</td>\n",
       "      <td>[2019-01-07T00:00:00.000000000, 2019-01-07T00:...</td>\n",
       "      <td>[1, -1, 1, -1, -1, -1, -1, 1, 1, 1, 1, 1, 1, -...</td>\n",
       "    </tr>\n",
       "    <tr>\n",
       "      <th>4</th>\n",
       "      <td>[283371, 129506, 259322, 283371, 259322, 25932...</td>\n",
       "      <td>[2019-01-07T00:00:00.000000000, 2019-01-07T00:...</td>\n",
       "      <td>[1, -1, 1, -1, -1, -1, -1, 1, 1, 1, 1, 1, 1, -...</td>\n",
       "    </tr>\n",
       "    <tr>\n",
       "      <th>5</th>\n",
       "      <td>[65893, 132149, 107776, 266168, 217755, 101846...</td>\n",
       "      <td>[2019-03-19T00:00:00.000000000, 2019-03-19T00:...</td>\n",
       "      <td>[-1, -1, -1, -1, -1, -1, -1, -1, -1, -1, -1, -...</td>\n",
       "    </tr>\n",
       "    <tr>\n",
       "      <th>...</th>\n",
       "      <td>...</td>\n",
       "      <td>...</td>\n",
       "      <td>...</td>\n",
       "    </tr>\n",
       "    <tr>\n",
       "      <th>402835</th>\n",
       "      <td>[125491, 104804, 97889, 104817, 104818, 104823...</td>\n",
       "      <td>[2018-01-02T00:00:00.000000000, 2018-01-19T00:...</td>\n",
       "      <td>[1, 1, -1, 1, 1, 1, 1, 1, 1, 1, 1, 1, 1, 1, 1,...</td>\n",
       "    </tr>\n",
       "    <tr>\n",
       "      <th>402836</th>\n",
       "      <td>[172615, 250356, 283371, 169411, 277168, 27716...</td>\n",
       "      <td>[2019-04-10T00:00:00.000000000, 2019-04-12T00:...</td>\n",
       "      <td>[1, -1, -1, 1, -1, 1, 1, 1, 1, 1, 1, 1, -1, -1...</td>\n",
       "    </tr>\n",
       "    <tr>\n",
       "      <th>402837</th>\n",
       "      <td>[156535, 177297, 119216, 177297, 283371, 60891...</td>\n",
       "      <td>[2019-08-12T00:00:00.000000000, 2019-08-12T00:...</td>\n",
       "      <td>[-1, 1, 1, -1, -1, 1, 1, 1, 1, 1, 1, 1, 1, 1, ...</td>\n",
       "    </tr>\n",
       "    <tr>\n",
       "      <th>402838</th>\n",
       "      <td>[81795, 60891, 195253, 172615, 60891, 283748, ...</td>\n",
       "      <td>[2018-10-26T00:00:00.000000000, 2018-10-26T00:...</td>\n",
       "      <td>[-1, 1, -1, -1, -1, -1, -1, -1, -1, -1, 1, -1,...</td>\n",
       "    </tr>\n",
       "    <tr>\n",
       "      <th>402839</th>\n",
       "      <td>[77624, 93277]</td>\n",
       "      <td>[2019-10-27T00:00:00.000000000, 2019-10-27T00:...</td>\n",
       "      <td>[1, -1]</td>\n",
       "    </tr>\n",
       "  </tbody>\n",
       "</table>\n",
       "<p>288083 rows × 3 columns</p>\n",
       "</div>"
      ],
      "text/plain": [
       "                                                   pkg_id  \\\n",
       "id                                                          \n",
       "1       [60891, 140058, 61058, 129506, 211465, 142427,...   \n",
       "2       [271118, 277281, 78310, 78310, 250267, 210170,...   \n",
       "3       [283371, 129506, 259322, 283371, 259322, 25932...   \n",
       "4       [283371, 129506, 259322, 283371, 259322, 25932...   \n",
       "5       [65893, 132149, 107776, 266168, 217755, 101846...   \n",
       "...                                                   ...   \n",
       "402835  [125491, 104804, 97889, 104817, 104818, 104823...   \n",
       "402836  [172615, 250356, 283371, 169411, 277168, 27716...   \n",
       "402837  [156535, 177297, 119216, 177297, 283371, 60891...   \n",
       "402838  [81795, 60891, 195253, 172615, 60891, 283748, ...   \n",
       "402839                                     [77624, 93277]   \n",
       "\n",
       "                                                     date  \\\n",
       "id                                                          \n",
       "1       [2018-03-30T00:00:00.000000000, 2018-03-30T00:...   \n",
       "2       [2019-05-23T00:00:00.000000000, 2019-05-23T00:...   \n",
       "3       [2019-01-07T00:00:00.000000000, 2019-01-07T00:...   \n",
       "4       [2019-01-07T00:00:00.000000000, 2019-01-07T00:...   \n",
       "5       [2019-03-19T00:00:00.000000000, 2019-03-19T00:...   \n",
       "...                                                   ...   \n",
       "402835  [2018-01-02T00:00:00.000000000, 2018-01-19T00:...   \n",
       "402836  [2019-04-10T00:00:00.000000000, 2019-04-12T00:...   \n",
       "402837  [2019-08-12T00:00:00.000000000, 2019-08-12T00:...   \n",
       "402838  [2018-10-26T00:00:00.000000000, 2018-10-26T00:...   \n",
       "402839  [2019-10-27T00:00:00.000000000, 2019-10-27T00:...   \n",
       "\n",
       "                                                   action  \n",
       "id                                                         \n",
       "1       [1, 1, 1, -1, 1, 1, -1, 1, -1, 1, -1, -1, -1, ...  \n",
       "2       [1, -1, -1, 1, 1, 1, -1, 1, 1, 1, 1, 1, 1, 1, ...  \n",
       "3       [1, -1, 1, -1, -1, -1, -1, 1, 1, 1, 1, 1, 1, -...  \n",
       "4       [1, -1, 1, -1, -1, -1, -1, 1, 1, 1, 1, 1, 1, -...  \n",
       "5       [-1, -1, -1, -1, -1, -1, -1, -1, -1, -1, -1, -...  \n",
       "...                                                   ...  \n",
       "402835  [1, 1, -1, 1, 1, 1, 1, 1, 1, 1, 1, 1, 1, 1, 1,...  \n",
       "402836  [1, -1, -1, 1, -1, 1, 1, 1, 1, 1, 1, 1, -1, -1...  \n",
       "402837  [-1, 1, 1, -1, -1, 1, 1, 1, 1, 1, 1, 1, 1, 1, ...  \n",
       "402838  [-1, 1, -1, -1, -1, -1, -1, -1, -1, -1, 1, -1,...  \n",
       "402839                                            [1, -1]  \n",
       "\n",
       "[288083 rows x 3 columns]"
      ]
     },
     "execution_count": 5,
     "metadata": {},
     "output_type": "execute_result"
    }
   ],
   "source": [
    "df_install_behave"
   ]
  },
  {
   "cell_type": "code",
   "execution_count": 11,
   "metadata": {},
   "outputs": [
    {
     "name": "stderr",
     "output_type": "stream",
     "text": [
      "2020-08-24 15:05:57,461 - INFO - start dump df_install_behave_no_date\n",
      "2020-08-24 15:07:30,924 - INFO - finish dump df_install_behave_no_date\n",
      "2020-08-24 15:07:30,927 - INFO - start dump df_install_behave\n",
      "2020-08-24 15:17:15,888 - INFO - finish dump df_install_behave\n"
     ]
    }
   ],
   "source": [
    "logging.info('start dump df_install_behave_no_date')\n",
    "pickle.dump(df_install_behave[['pkg_id', 'action']], open('../data_sortout/df_install_behave_no_date.pickle', 'wb'))\n",
    "logging.info('finish dump df_install_behave_no_date')\n",
    "\n",
    "logging.info('start dump df_install_behave')\n",
    "pickle.dump(df_install_behave, open('../data_sortout/df_install_behave.pickle', 'wb'))\n",
    "logging.info('finish dump df_install_behave')\n"
   ]
  },
  {
   "cell_type": "code",
   "execution_count": 9,
   "metadata": {},
   "outputs": [
    {
     "name": "stderr",
     "output_type": "stream",
     "text": [
      "2020-07-01 18:22:39,697 - INFO - start dump df_install_behave_no_date\n",
      "2020-07-01 18:24:24,903 - INFO - finish dump df_install_behave_no_date\n",
      "2020-07-01 18:24:25,246 - INFO - Note: NumExpr detected 32 cores but \"NUMEXPR_MAX_THREADS\" not set, so enforcing safe limit of 8.\n",
      "2020-07-01 18:24:25,247 - INFO - NumExpr defaulting to 8 threads.\n",
      "2020-07-01 18:30:21,189 - INFO - start dump df_install_behave_date\n",
      "2020-07-01 18:30:24,339 - INFO - finish dump df_install_behave_date\n"
     ]
    }
   ],
   "source": [
    "df_day = df_install_behave['date'].apply(lambda date_list : pd.Series({\n",
    "    'year' : list(pd.DatetimeIndex(date_list).year - 2000),\n",
    "    'month' : list(pd.DatetimeIndex(date_list).month),\n",
    "    'day' : list(pd.DatetimeIndex(date_list).day),\n",
    "}))\n",
    "logging.info('start dump df_install_behave_date')\n",
    "pickle.dump(df_day, open('../data_sortout/df_install_behave_date.pickle', 'wb'))\n",
    "logging.info('finish dump df_install_behave_date')"
   ]
  },
  {
   "cell_type": "code",
   "execution_count": 2,
   "metadata": {},
   "outputs": [
    {
     "data": {
      "application/vnd.jupyter.widget-view+json": {
       "model_id": "23fda96c116c46908d84c2751403fffa",
       "version_major": 2,
       "version_minor": 0
      },
      "text/plain": [
       "HBox(children=(IntProgress(value=0, max=197737), HTML(value='')))"
      ]
     },
     "metadata": {},
     "output_type": "display_data"
    },
    {
     "name": "stdout",
     "output_type": "stream",
     "text": [
      "\n"
     ]
    }
   ],
   "source": [
    "df_install_behave = pickle.load(open('../data_sortout/df_install_behave_no_date.pickle', 'rb'))\n",
    "new_actions = []\n",
    "for actions in tqdm( df_install_behave['action']):\n",
    "    new_action = list(map(lambda x : x if x > 0 else 0, actions) )\n",
    "    new_actions.append(new_action)\n",
    "df_install_behave['action'] = new_actions"
   ]
  },
  {
   "cell_type": "code",
   "execution_count": 4,
   "metadata": {},
   "outputs": [],
   "source": [
    "pickle.dump(df_install_behave, open('../data_sortout/df_install_behave_no_date.pickle', 'wb'))"
   ]
  },
  {
   "cell_type": "markdown",
   "metadata": {},
   "source": [
    "## time"
   ]
  },
  {
   "cell_type": "code",
   "execution_count": null,
   "metadata": {},
   "outputs": [],
   "source": [
    "df_install_behave = pd.read_csv('../data/202002/app_inunstall_records.csv', header=None, names=['id', 'loan_date', 'pkg', 'date', 'action_type'])\n",
    "df_install_behave['loan_date'] = pd.to_datetime(df_install_behave['loan_date'], format='%Y%m%d', errors='ignore')\n",
    "df_install_behave['date'] = pd.to_datetime(df_install_behave['date'], format='%Y%m%d', errors='ignore')\n",
    "df_install_behave_sort = df_install_behave.sort_values(by = ['date'])\n",
    "df_install_behave_sort_less = df_install_behave_sort[df_install_behave_sort.loan_date > df_install_behave_sort.date]"
   ]
  },
  {
   "cell_type": "code",
   "execution_count": 21,
   "metadata": {},
   "outputs": [],
   "source": [
    "qcut_time = pd.qcut(df_install_behave_sort_less['date'], 32)\n",
    "cut_time = pd.cut(df_install_behave_sort_less['date'], 32)"
   ]
  },
  {
   "cell_type": "code",
   "execution_count": 39,
   "metadata": {},
   "outputs": [],
   "source": [
    "mp_qcut_id = dict(zip(list(qcut_time.value_counts().sort_index().index), list(range(32))))\n",
    "qcut_time_id = qcut_time.map(mp_qcut_id)"
   ]
  },
  {
   "cell_type": "code",
   "execution_count": 40,
   "metadata": {},
   "outputs": [],
   "source": [
    "mp_cut_id = dict(zip(list(cut_time.value_counts().sort_index().index), list(range(32))))\n",
    "cut_time_id = cut_time.map(mp_cut_id)"
   ]
  },
  {
   "cell_type": "code",
   "execution_count": 45,
   "metadata": {},
   "outputs": [
    {
     "name": "stderr",
     "output_type": "stream",
     "text": [
      "/home/huangweilin/anaconda3/envs/hyr/lib/python3.6/site-packages/ipykernel_launcher.py:1: SettingWithCopyWarning: \n",
      "A value is trying to be set on a copy of a slice from a DataFrame.\n",
      "Try using .loc[row_indexer,col_indexer] = value instead\n",
      "\n",
      "See the caveats in the documentation: https://pandas.pydata.org/pandas-docs/stable/user_guide/indexing.html#returning-a-view-versus-a-copy\n",
      "  \"\"\"Entry point for launching an IPython kernel.\n",
      "/home/huangweilin/anaconda3/envs/hyr/lib/python3.6/site-packages/ipykernel_launcher.py:2: SettingWithCopyWarning: \n",
      "A value is trying to be set on a copy of a slice from a DataFrame.\n",
      "Try using .loc[row_indexer,col_indexer] = value instead\n",
      "\n",
      "See the caveats in the documentation: https://pandas.pydata.org/pandas-docs/stable/user_guide/indexing.html#returning-a-view-versus-a-copy\n",
      "  \n"
     ]
    }
   ],
   "source": [
    "df_install_behave_sort_less['qcut_time_id'] = qcut_time_id\n",
    "df_install_behave_sort_less['cut_time_id'] = cut_time_id"
   ]
  },
  {
   "cell_type": "code",
   "execution_count": 46,
   "metadata": {},
   "outputs": [
    {
     "data": {
      "text/html": [
       "<div>\n",
       "<style scoped>\n",
       "    .dataframe tbody tr th:only-of-type {\n",
       "        vertical-align: middle;\n",
       "    }\n",
       "\n",
       "    .dataframe tbody tr th {\n",
       "        vertical-align: top;\n",
       "    }\n",
       "\n",
       "    .dataframe thead th {\n",
       "        text-align: right;\n",
       "    }\n",
       "</style>\n",
       "<table border=\"1\" class=\"dataframe\">\n",
       "  <thead>\n",
       "    <tr style=\"text-align: right;\">\n",
       "      <th></th>\n",
       "      <th>id</th>\n",
       "      <th>loan_date</th>\n",
       "      <th>pkg</th>\n",
       "      <th>date</th>\n",
       "      <th>action_type</th>\n",
       "      <th>qcut_time_id</th>\n",
       "      <th>cut_time_id</th>\n",
       "    </tr>\n",
       "  </thead>\n",
       "  <tbody>\n",
       "    <tr>\n",
       "      <th>48652634</th>\n",
       "      <td>128369</td>\n",
       "      <td>2019-05-16</td>\n",
       "      <td>86c50828e16d0bd301679f74e300bcd2ac18b70c.d2a39...</td>\n",
       "      <td>2018-01-01</td>\n",
       "      <td>install</td>\n",
       "      <td>0</td>\n",
       "      <td>0</td>\n",
       "    </tr>\n",
       "    <tr>\n",
       "      <th>7847169</th>\n",
       "      <td>210807</td>\n",
       "      <td>2019-07-17</td>\n",
       "      <td>86c50828e16d0bd301679f74e300bcd2ac18b70c.783e2...</td>\n",
       "      <td>2018-01-01</td>\n",
       "      <td>unstall</td>\n",
       "      <td>0</td>\n",
       "      <td>0</td>\n",
       "    </tr>\n",
       "    <tr>\n",
       "      <th>25507654</th>\n",
       "      <td>260063</td>\n",
       "      <td>2019-08-16</td>\n",
       "      <td>86c50828e16d0bd301679f74e300bcd2ac18b70c.62178...</td>\n",
       "      <td>2018-01-01</td>\n",
       "      <td>unstall</td>\n",
       "      <td>0</td>\n",
       "      <td>0</td>\n",
       "    </tr>\n",
       "    <tr>\n",
       "      <th>37400437</th>\n",
       "      <td>46113</td>\n",
       "      <td>2019-01-09</td>\n",
       "      <td>86c50828e16d0bd301679f74e300bcd2ac18b70c.8df0d...</td>\n",
       "      <td>2018-01-01</td>\n",
       "      <td>install</td>\n",
       "      <td>0</td>\n",
       "      <td>0</td>\n",
       "    </tr>\n",
       "    <tr>\n",
       "      <th>49391071</th>\n",
       "      <td>263646</td>\n",
       "      <td>2019-09-09</td>\n",
       "      <td>86c50828e16d0bd301679f74e300bcd2ac18b70c.e2b76...</td>\n",
       "      <td>2018-01-01</td>\n",
       "      <td>install</td>\n",
       "      <td>0</td>\n",
       "      <td>0</td>\n",
       "    </tr>\n",
       "    <tr>\n",
       "      <th>...</th>\n",
       "      <td>...</td>\n",
       "      <td>...</td>\n",
       "      <td>...</td>\n",
       "      <td>...</td>\n",
       "      <td>...</td>\n",
       "      <td>...</td>\n",
       "      <td>...</td>\n",
       "    </tr>\n",
       "    <tr>\n",
       "      <th>13948738</th>\n",
       "      <td>237696</td>\n",
       "      <td>2019-09-29</td>\n",
       "      <td>86c50828e16d0bd301679f74e300bcd2ac18b70c.77bbf...</td>\n",
       "      <td>2019-09-28</td>\n",
       "      <td>install</td>\n",
       "      <td>31</td>\n",
       "      <td>31</td>\n",
       "    </tr>\n",
       "    <tr>\n",
       "      <th>9315965</th>\n",
       "      <td>78902</td>\n",
       "      <td>2019-09-29</td>\n",
       "      <td>86c50828e16d0bd301679f74e300bcd2ac18b70c.e4198...</td>\n",
       "      <td>2019-09-28</td>\n",
       "      <td>unstall</td>\n",
       "      <td>31</td>\n",
       "      <td>31</td>\n",
       "    </tr>\n",
       "    <tr>\n",
       "      <th>9315968</th>\n",
       "      <td>78902</td>\n",
       "      <td>2019-09-29</td>\n",
       "      <td>86c50828e16d0bd301679f74e300bcd2ac18b70c.e4198...</td>\n",
       "      <td>2019-09-28</td>\n",
       "      <td>install</td>\n",
       "      <td>31</td>\n",
       "      <td>31</td>\n",
       "    </tr>\n",
       "    <tr>\n",
       "      <th>34114495</th>\n",
       "      <td>12548</td>\n",
       "      <td>2019-09-29</td>\n",
       "      <td>86c50828e16d0bd301679f74e300bcd2ac18b70c.6c5aa...</td>\n",
       "      <td>2019-09-28</td>\n",
       "      <td>install</td>\n",
       "      <td>31</td>\n",
       "      <td>31</td>\n",
       "    </tr>\n",
       "    <tr>\n",
       "      <th>40520385</th>\n",
       "      <td>276874</td>\n",
       "      <td>2019-09-29</td>\n",
       "      <td>86c50828e16d0bd301679f74e300bcd2ac18b70c.77bbf...</td>\n",
       "      <td>2019-09-28</td>\n",
       "      <td>install</td>\n",
       "      <td>31</td>\n",
       "      <td>31</td>\n",
       "    </tr>\n",
       "  </tbody>\n",
       "</table>\n",
       "<p>26896240 rows × 7 columns</p>\n",
       "</div>"
      ],
      "text/plain": [
       "              id  loan_date  \\\n",
       "48652634  128369 2019-05-16   \n",
       "7847169   210807 2019-07-17   \n",
       "25507654  260063 2019-08-16   \n",
       "37400437   46113 2019-01-09   \n",
       "49391071  263646 2019-09-09   \n",
       "...          ...        ...   \n",
       "13948738  237696 2019-09-29   \n",
       "9315965    78902 2019-09-29   \n",
       "9315968    78902 2019-09-29   \n",
       "34114495   12548 2019-09-29   \n",
       "40520385  276874 2019-09-29   \n",
       "\n",
       "                                                        pkg       date  \\\n",
       "48652634  86c50828e16d0bd301679f74e300bcd2ac18b70c.d2a39... 2018-01-01   \n",
       "7847169   86c50828e16d0bd301679f74e300bcd2ac18b70c.783e2... 2018-01-01   \n",
       "25507654  86c50828e16d0bd301679f74e300bcd2ac18b70c.62178... 2018-01-01   \n",
       "37400437  86c50828e16d0bd301679f74e300bcd2ac18b70c.8df0d... 2018-01-01   \n",
       "49391071  86c50828e16d0bd301679f74e300bcd2ac18b70c.e2b76... 2018-01-01   \n",
       "...                                                     ...        ...   \n",
       "13948738  86c50828e16d0bd301679f74e300bcd2ac18b70c.77bbf... 2019-09-28   \n",
       "9315965   86c50828e16d0bd301679f74e300bcd2ac18b70c.e4198... 2019-09-28   \n",
       "9315968   86c50828e16d0bd301679f74e300bcd2ac18b70c.e4198... 2019-09-28   \n",
       "34114495  86c50828e16d0bd301679f74e300bcd2ac18b70c.6c5aa... 2019-09-28   \n",
       "40520385  86c50828e16d0bd301679f74e300bcd2ac18b70c.77bbf... 2019-09-28   \n",
       "\n",
       "         action_type qcut_time_id cut_time_id  \n",
       "48652634     install            0           0  \n",
       "7847169      unstall            0           0  \n",
       "25507654     unstall            0           0  \n",
       "37400437     install            0           0  \n",
       "49391071     install            0           0  \n",
       "...              ...          ...         ...  \n",
       "13948738     install           31          31  \n",
       "9315965      unstall           31          31  \n",
       "9315968      install           31          31  \n",
       "34114495     install           31          31  \n",
       "40520385     install           31          31  \n",
       "\n",
       "[26896240 rows x 7 columns]"
      ]
     },
     "execution_count": 46,
     "metadata": {},
     "output_type": "execute_result"
    }
   ],
   "source": [
    "df_install_behave_sort_less"
   ]
  },
  {
   "cell_type": "code",
   "execution_count": 49,
   "metadata": {
    "scrolled": true
   },
   "outputs": [],
   "source": [
    "df_time = df_install_behave_sort_less.groupby('id').apply(lambda x : pd.Series({\n",
    "    'qcut_id' : list(x['qcut_time_id'].values),\n",
    "    'cut_id' : list(x['cut_time_id'].values),\n",
    "}))"
   ]
  },
  {
   "cell_type": "code",
   "execution_count": 50,
   "metadata": {},
   "outputs": [],
   "source": [
    "pickle.dump(df_time, open('../data_sortout/df_time_cut.pickle', 'wb'))"
   ]
  },
  {
   "cell_type": "code",
   "execution_count": 51,
   "metadata": {},
   "outputs": [
    {
     "data": {
      "text/html": [
       "<div>\n",
       "<style scoped>\n",
       "    .dataframe tbody tr th:only-of-type {\n",
       "        vertical-align: middle;\n",
       "    }\n",
       "\n",
       "    .dataframe tbody tr th {\n",
       "        vertical-align: top;\n",
       "    }\n",
       "\n",
       "    .dataframe thead th {\n",
       "        text-align: right;\n",
       "    }\n",
       "</style>\n",
       "<table border=\"1\" class=\"dataframe\">\n",
       "  <thead>\n",
       "    <tr style=\"text-align: right;\">\n",
       "      <th></th>\n",
       "      <th>qcut_id</th>\n",
       "      <th>cut_id</th>\n",
       "    </tr>\n",
       "    <tr>\n",
       "      <th>id</th>\n",
       "      <th></th>\n",
       "      <th></th>\n",
       "    </tr>\n",
       "  </thead>\n",
       "  <tbody>\n",
       "    <tr>\n",
       "      <th>1</th>\n",
       "      <td>[1, 1, 1, 1, 1, 1, 1, 1, 8, 8, 8]</td>\n",
       "      <td>[4, 4, 4, 4, 4, 4, 4, 4, 15, 15, 15]</td>\n",
       "    </tr>\n",
       "    <tr>\n",
       "      <th>2</th>\n",
       "      <td>[23, 23, 23, 23, 23, 23, 23, 23, 24, 24, 24, 2...</td>\n",
       "      <td>[25, 25, 25, 25, 25, 25, 25, 25, 25, 25, 25, 2...</td>\n",
       "    </tr>\n",
       "    <tr>\n",
       "      <th>3</th>\n",
       "      <td>[12, 12, 16]</td>\n",
       "      <td>[18, 18, 21]</td>\n",
       "    </tr>\n",
       "    <tr>\n",
       "      <th>4</th>\n",
       "      <td>[12, 12, 16]</td>\n",
       "      <td>[18, 18, 21]</td>\n",
       "    </tr>\n",
       "    <tr>\n",
       "      <th>8</th>\n",
       "      <td>[6, 6, 6, 6, 6, 6, 6, 10, 10, 11, 11, 11, 11, ...</td>\n",
       "      <td>[13, 13, 13, 13, 13, 13, 13, 17, 17, 17, 17, 1...</td>\n",
       "    </tr>\n",
       "    <tr>\n",
       "      <th>...</th>\n",
       "      <td>...</td>\n",
       "      <td>...</td>\n",
       "    </tr>\n",
       "    <tr>\n",
       "      <th>402831</th>\n",
       "      <td>[2, 2, 2, 2, 2, 2, 2, 2, 2, 2, 2, 2, 2, 2, 2, ...</td>\n",
       "      <td>[6, 6, 6, 6, 6, 6, 6, 6, 6, 6, 6, 6, 6, 6, 6, ...</td>\n",
       "    </tr>\n",
       "    <tr>\n",
       "      <th>402833</th>\n",
       "      <td>[10, 10, 10, 12, 12, 12, 14, 14, 14, 14, 14, 1...</td>\n",
       "      <td>[17, 17, 17, 18, 18, 18, 19, 19, 19, 19, 19, 1...</td>\n",
       "    </tr>\n",
       "    <tr>\n",
       "      <th>402835</th>\n",
       "      <td>[0, 0, 0, 0, 0, 0, 0, 0, 0, 0, 0, 0, 0, 0, 0, ...</td>\n",
       "      <td>[0, 0, 0, 0, 0, 0, 0, 1, 1, 1, 1, 2, 2, 2, 2, ...</td>\n",
       "    </tr>\n",
       "    <tr>\n",
       "      <th>402836</th>\n",
       "      <td>[19, 19, 19, 19, 19, 20, 20, 20, 20, 20, 20, 2...</td>\n",
       "      <td>[23, 23, 23, 23, 23, 23, 23, 23, 23, 23, 23, 2...</td>\n",
       "    </tr>\n",
       "    <tr>\n",
       "      <th>402838</th>\n",
       "      <td>[8, 8, 8, 8, 8, 8, 8, 8, 8, 8, 9, 9, 10, 10, 1...</td>\n",
       "      <td>[15, 15, 15, 15, 15, 15, 15, 15, 15, 15, 16, 1...</td>\n",
       "    </tr>\n",
       "  </tbody>\n",
       "</table>\n",
       "<p>197737 rows × 2 columns</p>\n",
       "</div>"
      ],
      "text/plain": [
       "                                                  qcut_id  \\\n",
       "id                                                          \n",
       "1                       [1, 1, 1, 1, 1, 1, 1, 1, 8, 8, 8]   \n",
       "2       [23, 23, 23, 23, 23, 23, 23, 23, 24, 24, 24, 2...   \n",
       "3                                            [12, 12, 16]   \n",
       "4                                            [12, 12, 16]   \n",
       "8       [6, 6, 6, 6, 6, 6, 6, 10, 10, 11, 11, 11, 11, ...   \n",
       "...                                                   ...   \n",
       "402831  [2, 2, 2, 2, 2, 2, 2, 2, 2, 2, 2, 2, 2, 2, 2, ...   \n",
       "402833  [10, 10, 10, 12, 12, 12, 14, 14, 14, 14, 14, 1...   \n",
       "402835  [0, 0, 0, 0, 0, 0, 0, 0, 0, 0, 0, 0, 0, 0, 0, ...   \n",
       "402836  [19, 19, 19, 19, 19, 20, 20, 20, 20, 20, 20, 2...   \n",
       "402838  [8, 8, 8, 8, 8, 8, 8, 8, 8, 8, 9, 9, 10, 10, 1...   \n",
       "\n",
       "                                                   cut_id  \n",
       "id                                                         \n",
       "1                    [4, 4, 4, 4, 4, 4, 4, 4, 15, 15, 15]  \n",
       "2       [25, 25, 25, 25, 25, 25, 25, 25, 25, 25, 25, 2...  \n",
       "3                                            [18, 18, 21]  \n",
       "4                                            [18, 18, 21]  \n",
       "8       [13, 13, 13, 13, 13, 13, 13, 17, 17, 17, 17, 1...  \n",
       "...                                                   ...  \n",
       "402831  [6, 6, 6, 6, 6, 6, 6, 6, 6, 6, 6, 6, 6, 6, 6, ...  \n",
       "402833  [17, 17, 17, 18, 18, 18, 19, 19, 19, 19, 19, 1...  \n",
       "402835  [0, 0, 0, 0, 0, 0, 0, 1, 1, 1, 1, 2, 2, 2, 2, ...  \n",
       "402836  [23, 23, 23, 23, 23, 23, 23, 23, 23, 23, 23, 2...  \n",
       "402838  [15, 15, 15, 15, 15, 15, 15, 15, 15, 15, 16, 1...  \n",
       "\n",
       "[197737 rows x 2 columns]"
      ]
     },
     "execution_count": 51,
     "metadata": {},
     "output_type": "execute_result"
    }
   ],
   "source": [
    "df_time"
   ]
  },
  {
   "cell_type": "markdown",
   "metadata": {},
   "source": [
    "# App user log"
   ]
  },
  {
   "cell_type": "code",
   "execution_count": 2,
   "metadata": {
    "scrolled": true
   },
   "outputs": [],
   "source": [
    "df_user_log = pickle.load(open('../data/202005/df_user_log.pickle','rb'))"
   ]
  },
  {
   "cell_type": "code",
   "execution_count": 3,
   "metadata": {},
   "outputs": [
    {
     "data": {
      "text/html": [
       "<div>\n",
       "<style scoped>\n",
       "    .dataframe tbody tr th:only-of-type {\n",
       "        vertical-align: middle;\n",
       "    }\n",
       "\n",
       "    .dataframe tbody tr th {\n",
       "        vertical-align: top;\n",
       "    }\n",
       "\n",
       "    .dataframe thead th {\n",
       "        text-align: right;\n",
       "    }\n",
       "</style>\n",
       "<table border=\"1\" class=\"dataframe\">\n",
       "  <thead>\n",
       "    <tr style=\"text-align: right;\">\n",
       "      <th></th>\n",
       "      <th>userid</th>\n",
       "      <th>time</th>\n",
       "      <th>order_in_day</th>\n",
       "      <th>order_in_session</th>\n",
       "      <th>session_id</th>\n",
       "      <th>page</th>\n",
       "      <th>tgt_event_id</th>\n",
       "    </tr>\n",
       "  </thead>\n",
       "  <tbody>\n",
       "    <tr>\n",
       "      <th>0</th>\n",
       "      <td>23836</td>\n",
       "      <td>2018-04-30 18:27:58.582</td>\n",
       "      <td>18</td>\n",
       "      <td>18</td>\n",
       "      <td>8329882</td>\n",
       "      <td>NaN</td>\n",
       "      <td>59.0</td>\n",
       "    </tr>\n",
       "    <tr>\n",
       "      <th>1</th>\n",
       "      <td>23836</td>\n",
       "      <td>2018-04-30 18:27:39.337</td>\n",
       "      <td>8</td>\n",
       "      <td>8</td>\n",
       "      <td>8329882</td>\n",
       "      <td>NaN</td>\n",
       "      <td>59.0</td>\n",
       "    </tr>\n",
       "    <tr>\n",
       "      <th>2</th>\n",
       "      <td>23836</td>\n",
       "      <td>2018-04-30 18:27:33.282</td>\n",
       "      <td>1</td>\n",
       "      <td>1</td>\n",
       "      <td>8329882</td>\n",
       "      <td>NaN</td>\n",
       "      <td>59.0</td>\n",
       "    </tr>\n",
       "    <tr>\n",
       "      <th>3</th>\n",
       "      <td>93197</td>\n",
       "      <td>2018-08-13 07:30:36.060</td>\n",
       "      <td>28</td>\n",
       "      <td>4</td>\n",
       "      <td>15291922</td>\n",
       "      <td>NaN</td>\n",
       "      <td>59.0</td>\n",
       "    </tr>\n",
       "    <tr>\n",
       "      <th>4</th>\n",
       "      <td>71227</td>\n",
       "      <td>2018-11-29 21:16:52.902</td>\n",
       "      <td>146</td>\n",
       "      <td>146</td>\n",
       "      <td>21750936</td>\n",
       "      <td>NaN</td>\n",
       "      <td>59.0</td>\n",
       "    </tr>\n",
       "    <tr>\n",
       "      <th>...</th>\n",
       "      <td>...</td>\n",
       "      <td>...</td>\n",
       "      <td>...</td>\n",
       "      <td>...</td>\n",
       "      <td>...</td>\n",
       "      <td>...</td>\n",
       "      <td>...</td>\n",
       "    </tr>\n",
       "    <tr>\n",
       "      <th>105134439</th>\n",
       "      <td>114016</td>\n",
       "      <td>2020-02-28 09:17:53.785</td>\n",
       "      <td>236</td>\n",
       "      <td>235</td>\n",
       "      <td>21436045</td>\n",
       "      <td>18.0</td>\n",
       "      <td>NaN</td>\n",
       "    </tr>\n",
       "    <tr>\n",
       "      <th>105134440</th>\n",
       "      <td>114016</td>\n",
       "      <td>2020-02-28 09:17:45.620</td>\n",
       "      <td>229</td>\n",
       "      <td>228</td>\n",
       "      <td>21436045</td>\n",
       "      <td>18.0</td>\n",
       "      <td>NaN</td>\n",
       "    </tr>\n",
       "    <tr>\n",
       "      <th>105134441</th>\n",
       "      <td>114016</td>\n",
       "      <td>2020-02-28 09:17:40.661</td>\n",
       "      <td>224</td>\n",
       "      <td>223</td>\n",
       "      <td>21436045</td>\n",
       "      <td>18.0</td>\n",
       "      <td>NaN</td>\n",
       "    </tr>\n",
       "    <tr>\n",
       "      <th>105134442</th>\n",
       "      <td>180399</td>\n",
       "      <td>2020-02-24 07:50:35.274</td>\n",
       "      <td>110</td>\n",
       "      <td>110</td>\n",
       "      <td>2488024</td>\n",
       "      <td>18.0</td>\n",
       "      <td>NaN</td>\n",
       "    </tr>\n",
       "    <tr>\n",
       "      <th>105134443</th>\n",
       "      <td>180399</td>\n",
       "      <td>2020-02-24 07:50:32.405</td>\n",
       "      <td>109</td>\n",
       "      <td>109</td>\n",
       "      <td>2488024</td>\n",
       "      <td>18.0</td>\n",
       "      <td>NaN</td>\n",
       "    </tr>\n",
       "  </tbody>\n",
       "</table>\n",
       "<p>275543268 rows × 7 columns</p>\n",
       "</div>"
      ],
      "text/plain": [
       "           userid                     time  order_in_day  order_in_session  \\\n",
       "0           23836  2018-04-30 18:27:58.582            18                18   \n",
       "1           23836  2018-04-30 18:27:39.337             8                 8   \n",
       "2           23836  2018-04-30 18:27:33.282             1                 1   \n",
       "3           93197  2018-08-13 07:30:36.060            28                 4   \n",
       "4           71227  2018-11-29 21:16:52.902           146               146   \n",
       "...           ...                      ...           ...               ...   \n",
       "105134439  114016  2020-02-28 09:17:53.785           236               235   \n",
       "105134440  114016  2020-02-28 09:17:45.620           229               228   \n",
       "105134441  114016  2020-02-28 09:17:40.661           224               223   \n",
       "105134442  180399  2020-02-24 07:50:35.274           110               110   \n",
       "105134443  180399  2020-02-24 07:50:32.405           109               109   \n",
       "\n",
       "           session_id  page  tgt_event_id  \n",
       "0             8329882   NaN          59.0  \n",
       "1             8329882   NaN          59.0  \n",
       "2             8329882   NaN          59.0  \n",
       "3            15291922   NaN          59.0  \n",
       "4            21750936   NaN          59.0  \n",
       "...               ...   ...           ...  \n",
       "105134439    21436045  18.0           NaN  \n",
       "105134440    21436045  18.0           NaN  \n",
       "105134441    21436045  18.0           NaN  \n",
       "105134442     2488024  18.0           NaN  \n",
       "105134443     2488024  18.0           NaN  \n",
       "\n",
       "[275543268 rows x 7 columns]"
      ]
     },
     "execution_count": 3,
     "metadata": {},
     "output_type": "execute_result"
    }
   ],
   "source": [
    "df_user_log"
   ]
  },
  {
   "cell_type": "code",
   "execution_count": 7,
   "metadata": {},
   "outputs": [
    {
     "data": {
      "text/plain": [
       "(0.9240901541459543, 0.8705568085227181)"
      ]
     },
     "execution_count": 7,
     "metadata": {},
     "output_type": "execute_result"
    }
   ],
   "source": [
    "df_user_log['page'].count() / df_user_log['page'].shape[0], df_user_log['tgt_event_id'].count() / df_user_log['tgt_event_id'].shape[0]"
   ]
  },
  {
   "cell_type": "code",
   "execution_count": 3,
   "metadata": {},
   "outputs": [],
   "source": [
    "df_user_log['time'] = pd.to_datetime(df_user_log['time'], format='%Y-%m-%d %H:%M:%S', errors='ignore')"
   ]
  },
  {
   "cell_type": "code",
   "execution_count": 4,
   "metadata": {},
   "outputs": [],
   "source": [
    "df_user_log = df_user_log.sort_values(by = ['time'])"
   ]
  },
  {
   "cell_type": "code",
   "execution_count": 5,
   "metadata": {},
   "outputs": [],
   "source": [
    "df_master_records = pickle.load(open('../data_sortout/df_master_records.pickle', 'rb'))"
   ]
  },
  {
   "cell_type": "code",
   "execution_count": 6,
   "metadata": {},
   "outputs": [],
   "source": [
    "df_user_log = df_user_log.fillna(0)"
   ]
  },
  {
   "cell_type": "code",
   "execution_count": 7,
   "metadata": {},
   "outputs": [],
   "source": [
    "gby_userid_log = df_user_log.groupby('userid')\n",
    "mp_userid_log = {}\n",
    "for userid, df in gby_userid_log:\n",
    "    mp_userid_log[userid] = df"
   ]
  },
  {
   "cell_type": "code",
   "execution_count": 8,
   "metadata": {},
   "outputs": [],
   "source": [
    "df_master_records_with_log = df_master_records[df_master_records.userid.isin(set(df_user_log['userid']))]"
   ]
  },
  {
   "cell_type": "code",
   "execution_count": 9,
   "metadata": {},
   "outputs": [
    {
     "data": {
      "text/plain": [
       "((402033, 21), (402840, 21))"
      ]
     },
     "execution_count": 9,
     "metadata": {},
     "output_type": "execute_result"
    }
   ],
   "source": [
    "df_master_records_with_log.shape, df_master_records.shape"
   ]
  },
  {
   "cell_type": "code",
   "execution_count": 10,
   "metadata": {},
   "outputs": [],
   "source": [
    "df_user_log['page'] = df_user_log['page'].apply(int)\n",
    "df_user_log['tgt_event_id'] = df_user_log['tgt_event_id'].apply(int)"
   ]
  },
  {
   "cell_type": "code",
   "execution_count": 11,
   "metadata": {},
   "outputs": [
    {
     "data": {
      "application/vnd.jupyter.widget-view+json": {
       "model_id": "04bd9e0844ca4a24bd93f5e64d65eb58",
       "version_major": 2,
       "version_minor": 0
      },
      "text/plain": [
       "HBox(children=(IntProgress(value=0, max=402033), HTML(value='')))"
      ]
     },
     "metadata": {},
     "output_type": "display_data"
    },
    {
     "name": "stderr",
     "output_type": "stream",
     "text": [
      "2020-08-06 14:04:14,950 - INFO - Note: NumExpr detected 32 cores but \"NUMEXPR_MAX_THREADS\" not set, so enforcing safe limit of 8.\n",
      "2020-08-06 14:04:14,952 - INFO - NumExpr defaulting to 8 threads.\n"
     ]
    },
    {
     "name": "stdout",
     "output_type": "stream",
     "text": [
      "\n"
     ]
    }
   ],
   "source": [
    "userlog_before_loan = []\n",
    "useids_log = []\n",
    "cnt = 0\n",
    "for i in tqdm(range(df_master_records_with_log.shape[0])):\n",
    "    se = df_master_records_with_log.iloc[i]\n",
    "    userid = se['userid']\n",
    "    loan_date = se['loan_date']\n",
    "    df_item = mp_userid_log[userid].query('time <= @loan_date')\n",
    "#     ipd.display(df_item)\n",
    "    useids_log.append(userid)\n",
    "    userlog_before_loan.append({\n",
    "        'time' : df_item['time'].values,\n",
    "        'session_id' : df_item['session_id'].values,\n",
    "        'page' : df_item['page'].values,\n",
    "        'tgt_event_id' : df_item['tgt_event_id'].values,\n",
    "    })\n",
    "    "
   ]
  },
  {
   "cell_type": "code",
   "execution_count": 12,
   "metadata": {},
   "outputs": [],
   "source": [
    "df_userlog_sequence = pd.DataFrame(userlog_before_loan, index = df_master_records_with_log.index)"
   ]
  },
  {
   "cell_type": "code",
   "execution_count": 13,
   "metadata": {},
   "outputs": [],
   "source": [
    "pickle.dump(df_userlog_sequence, open('../data_sortout/df_userlog_sequence.pickle', 'wb'))"
   ]
  },
  {
   "cell_type": "code",
   "execution_count": 14,
   "metadata": {},
   "outputs": [],
   "source": [
    "df_userlog_sequence = df_userlog_sequence[df_userlog_sequence['time'].apply(len) > 0]\n",
    "pickle.dump(df_userlog_sequence[['page', 'tgt_event_id']], open('../data_sortout/df_userlog_sequence_less.pickle', 'wb'))"
   ]
  },
  {
   "cell_type": "markdown",
   "metadata": {},
   "source": [
    "## Time"
   ]
  },
  {
   "cell_type": "code",
   "execution_count": 2,
   "metadata": {},
   "outputs": [],
   "source": [
    "df_userlog_sequence = pickle.load(open('../data_sortout/df_userlog_sequence.pickle', 'rb'))"
   ]
  },
  {
   "cell_type": "code",
   "execution_count": 7,
   "metadata": {},
   "outputs": [],
   "source": [
    "df_master_records = pickle.load(open('../data_sortout/df_master_records.pickle', 'rb'))"
   ]
  },
  {
   "cell_type": "code",
   "execution_count": 22,
   "metadata": {},
   "outputs": [],
   "source": [
    "df_userlog_sequence_data = df_userlog_sequence[df_userlog_sequence['time'].apply(len) > 0]\n",
    "df_userlog_sequence_with_loan_date = pd.merge(df_userlog_sequence_data, df_master_records[['loan_date']], how = 'left', left_index=True, right_index=True)"
   ]
  },
  {
   "cell_type": "code",
   "execution_count": 111,
   "metadata": {
    "scrolled": true
   },
   "outputs": [
    {
     "data": {
      "application/vnd.jupyter.widget-view+json": {
       "model_id": "299f4e5775454e8180c45fe2df799631",
       "version_major": 2,
       "version_minor": 0
      },
      "text/plain": [
       "HBox(children=(IntProgress(value=0, max=319977), HTML(value='')))"
      ]
     },
     "metadata": {},
     "output_type": "display_data"
    },
    {
     "name": "stdout",
     "output_type": "stream",
     "text": [
      "\n"
     ]
    }
   ],
   "source": [
    "day_list, second_list, id_list = [], [], []\n",
    "for i in tqdm(range(df_userlog_sequence_with_loan_date.shape[0])):\n",
    "    a_row = df_userlog_sequence_with_loan_date.iloc[i]\n",
    "    time_list = list(map(lambda x : ((a_row['loan_date'] - x).seconds, (a_row['loan_date'] - x).days), a_row['time']))\n",
    "    time_list = list(zip(*time_list))\n",
    "    second_list.extend(time_list[0])\n",
    "    day_list.extend(time_list[1])\n",
    "    id_list.extend([a_row.name] * len(time_list[1]))"
   ]
  },
  {
   "cell_type": "code",
   "execution_count": 112,
   "metadata": {
    "scrolled": true
   },
   "outputs": [],
   "source": [
    "def cut(se_time, cut_piece):\n",
    "    qcut_time = pd.qcut(se_time, cut_piece)\n",
    "    mp_qcut_id = dict(zip(list(qcut_time.value_counts().sort_index().index), list(range(cut_piece))))\n",
    "    qcut_time_id = qcut_time.map(mp_qcut_id)\n",
    "    \n",
    "    cut_time = pd.cut(se_time, cut_piece)\n",
    "    mp_cut_id = dict(zip(list(cut_time.value_counts().sort_index().index), list(range(cut_piece))))\n",
    "    cut_time_id = cut_time.map(mp_cut_id)\n",
    "    \n",
    "    return qcut_time_id, cut_time_id\n",
    "\n",
    "df_time = pd.DataFrame({'day' :day_list, 'second' : second_list, 'id' : id_list})\n",
    "\n",
    "qcut_day_id, cut_day_id = cut(df_time['day'], 8)\n",
    "qcut_second_id, cut_second_id = cut(df_time['second'], 32)\n",
    "df_time['qcut_day_id'] = qcut_day_id\n",
    "df_time['cut_day_id'] = cut_day_id\n",
    "df_time['qcut_second_id'] = qcut_second_id\n",
    "df_time['cut_second_id'] = cut_second_id"
   ]
  },
  {
   "cell_type": "code",
   "execution_count": 113,
   "metadata": {
    "scrolled": true
   },
   "outputs": [],
   "source": [
    "df_time_seq = df_time.groupby('id').apply(lambda x : pd.Series({\n",
    "    'qcut_day_id' : list(x['qcut_day_id']),\n",
    "    'cut_day_id' : list(x['cut_day_id']),\n",
    "    'qcut_second_id' : list(x['qcut_second_id']),\n",
    "    'cut_second_id' : list(x['cut_second_id']),\n",
    "}))"
   ]
  },
  {
   "cell_type": "code",
   "execution_count": 116,
   "metadata": {},
   "outputs": [],
   "source": [
    "# df_time_seq"
   ]
  },
  {
   "cell_type": "code",
   "execution_count": 114,
   "metadata": {},
   "outputs": [],
   "source": [
    "pickle.dump(df_time_seq, open('../data_sortout/df_userlog_time_seq.pickle', 'wb'))"
   ]
  },
  {
   "cell_type": "markdown",
   "metadata": {},
   "source": [
    "## cross"
   ]
  },
  {
   "cell_type": "code",
   "execution_count": 2,
   "metadata": {},
   "outputs": [],
   "source": [
    "df_userlog_sequence = pickle.load(open('../data_sortout/df_userlog_sequence_less.pickle', 'rb'))"
   ]
  },
  {
   "cell_type": "code",
   "execution_count": 3,
   "metadata": {
    "scrolled": true
   },
   "outputs": [
    {
     "data": {
      "application/vnd.jupyter.widget-view+json": {
       "model_id": "42a4f11700d24dd6a447c28e947568bc",
       "version_major": 2,
       "version_minor": 0
      },
      "text/plain": [
       "HBox(children=(IntProgress(value=1, bar_style='info', max=1), HTML(value='')))"
      ]
     },
     "metadata": {},
     "output_type": "display_data"
    },
    {
     "name": "stdout",
     "output_type": "stream",
     "text": [
      "\n"
     ]
    },
    {
     "ename": "NameError",
     "evalue": "name 'df_userlog' is not defined",
     "output_type": "error",
     "traceback": [
      "\u001b[0;31m---------------------------------------------------------------------------\u001b[0m",
      "\u001b[0;31mNameError\u001b[0m                                 Traceback (most recent call last)",
      "\u001b[0;32m<ipython-input-3-ae5bdaa1ebbb>\u001b[0m in \u001b[0;36m<module>\u001b[0;34m\u001b[0m\n\u001b[1;32m      3\u001b[0m     \u001b[0mcross_list\u001b[0m\u001b[0;34m.\u001b[0m\u001b[0mappend\u001b[0m\u001b[0;34m(\u001b[0m\u001b[0;34m[\u001b[0m\u001b[0mstr\u001b[0m\u001b[0;34m(\u001b[0m\u001b[0mint\u001b[0m\u001b[0;34m(\u001b[0m\u001b[0mpage\u001b[0m\u001b[0;34m)\u001b[0m\u001b[0;34m)\u001b[0m\u001b[0;34m+\u001b[0m \u001b[0;34m'_'\u001b[0m \u001b[0;34m+\u001b[0m \u001b[0mstr\u001b[0m\u001b[0;34m(\u001b[0m\u001b[0mint\u001b[0m\u001b[0;34m(\u001b[0m\u001b[0mtgt\u001b[0m\u001b[0;34m)\u001b[0m\u001b[0;34m)\u001b[0m \u001b[0;32mfor\u001b[0m \u001b[0;34m(\u001b[0m\u001b[0mpage\u001b[0m\u001b[0;34m,\u001b[0m \u001b[0mtgt\u001b[0m\u001b[0;34m)\u001b[0m \u001b[0;32min\u001b[0m \u001b[0mzip\u001b[0m\u001b[0;34m(\u001b[0m\u001b[0mpage_list\u001b[0m\u001b[0;34m,\u001b[0m \u001b[0mtgt_list\u001b[0m\u001b[0;34m)\u001b[0m\u001b[0;34m]\u001b[0m\u001b[0;34m)\u001b[0m\u001b[0;34m\u001b[0m\u001b[0;34m\u001b[0m\u001b[0m\n\u001b[1;32m      4\u001b[0m \u001b[0mse_userlog_cross\u001b[0m \u001b[0;34m=\u001b[0m \u001b[0mpd\u001b[0m\u001b[0;34m.\u001b[0m\u001b[0mSeries\u001b[0m\u001b[0;34m(\u001b[0m\u001b[0mcross_list\u001b[0m\u001b[0;34m)\u001b[0m\u001b[0;34m\u001b[0m\u001b[0;34m\u001b[0m\u001b[0m\n\u001b[0;32m----> 5\u001b[0;31m \u001b[0mse_userlog_cross\u001b[0m\u001b[0;34m.\u001b[0m\u001b[0mindex\u001b[0m \u001b[0;34m=\u001b[0m \u001b[0mdf_userlog\u001b[0m\u001b[0;34m.\u001b[0m\u001b[0mindex\u001b[0m\u001b[0;34m\u001b[0m\u001b[0;34m\u001b[0m\u001b[0m\n\u001b[0m\u001b[1;32m      6\u001b[0m \u001b[0mpickle\u001b[0m\u001b[0;34m.\u001b[0m\u001b[0mdump\u001b[0m\u001b[0;34m(\u001b[0m\u001b[0mse_userlog_cross\u001b[0m\u001b[0;34m,\u001b[0m \u001b[0mopen\u001b[0m\u001b[0;34m(\u001b[0m\u001b[0;34m'../data_sortout/se_userlog_cross.pickle'\u001b[0m\u001b[0;34m,\u001b[0m \u001b[0;34m'wb'\u001b[0m\u001b[0;34m)\u001b[0m\u001b[0;34m)\u001b[0m\u001b[0;34m\u001b[0m\u001b[0;34m\u001b[0m\u001b[0m\n",
      "\u001b[0;31mNameError\u001b[0m: name 'df_userlog' is not defined"
     ]
    }
   ],
   "source": [
    "cross_list = []\n",
    "for page_list, tgt_list in tqdm(zip(df_userlog_sequence['page'], df_userlog_sequence['tgt_event_id'])):\n",
    "    cross_list.append([str(int(page))+ '_' + str(int(tgt)) for (page, tgt) in zip(page_list, tgt_list)])\n",
    "se_userlog_cross = pd.Series(cross_list)\n"
   ]
  },
  {
   "cell_type": "code",
   "execution_count": 4,
   "metadata": {},
   "outputs": [],
   "source": [
    "se_userlog_cross.index = df_userlog_sequence.index\n",
    "pickle.dump(se_userlog_cross, open('../data_sortout/se_userlog_cross.pickle', 'wb'))"
   ]
  },
  {
   "cell_type": "code",
   "execution_count": 32,
   "metadata": {},
   "outputs": [],
   "source": [
    "se_userlog_cross = pickle.load(open('../data_sortout/se_userlog_cross.pickle', 'rb'))"
   ]
  },
  {
   "cell_type": "code",
   "execution_count": 5,
   "metadata": {},
   "outputs": [],
   "source": [
    "mp_cross_id = {}\n",
    "cnt = 1\n",
    "for i in range(se_userlog_cross.shape[0]):\n",
    "    user_log_list = se_userlog_cross.iloc[i]\n",
    "    for action in user_log_list: \n",
    "        if (action not in mp_cross_id):\n",
    "            mp_cross_id[action] = cnt\n",
    "            cnt += 1\n",
    "    if(cnt == 138):\n",
    "        break\n",
    "#     print(user_log_list)\n",
    "#     break"
   ]
  },
  {
   "cell_type": "code",
   "execution_count": 6,
   "metadata": {},
   "outputs": [],
   "source": [
    "se_userlog_cross_id = se_userlog_cross.apply(lambda x : list(map(lambda item : mp_cross_id[item], x)))\n",
    "pickle.dump(se_userlog_cross_id, open('../data_sortout/se_userlog_cross_id.pickle', 'wb'))"
   ]
  },
  {
   "cell_type": "code",
   "execution_count": 37,
   "metadata": {
    "scrolled": true
   },
   "outputs": [
    {
     "data": {
      "text/plain": [
       "185482544"
      ]
     },
     "execution_count": 37,
     "metadata": {},
     "output_type": "execute_result"
    }
   ],
   "source": [
    "se_userlog_cross.apply(len).sum()"
   ]
  },
  {
   "cell_type": "code",
   "execution_count": 33,
   "metadata": {},
   "outputs": [
    {
     "data": {
      "text/plain": [
       "id\n",
       "1         [15_57, 0_0, 0_0, 20_47, 17_0, 24_0, 24_45, 29...\n",
       "2         [0_0, 17_45, 17_0, 24_45, 29_59, 2_0, 16_0, 16...\n",
       "3         [0_0, 0_0, 20_47, 24_45, 29_59, 29_39, 2_0, 2_...\n",
       "4         [0_0, 0_0, 20_47, 24_45, 29_59, 29_39, 2_0, 2_...\n",
       "5         [15_57, 0_0, 0_0, 20_47, 17_45, 17_45, 17_0, 1...\n",
       "                                ...                        \n",
       "402835    [15_57, 29_59, 15_57, 29_59, 29_59, 20_47, 0_0...\n",
       "402836    [15_57, 0_0, 29_59, 20_47, 29_59, 25_35, 1_0, ...\n",
       "402837    [15_57, 29_59, 29_39, 20_47, 24_45, 29_49, 29_...\n",
       "402838    [2_0, 2_36, 17_0, 24_45, 29_39, 29_39, 8_36, 8...\n",
       "402839    [15_57, 15_57, 0_0, 0_0, 20_47, 0_0, 0_0, 29_5...\n",
       "Length: 319977, dtype: object"
      ]
     },
     "execution_count": 33,
     "metadata": {},
     "output_type": "execute_result"
    }
   ],
   "source": [
    "se_userlog_cross"
   ]
  },
  {
   "cell_type": "markdown",
   "metadata": {},
   "source": [
    "## load"
   ]
  },
  {
   "cell_type": "code",
   "execution_count": 2,
   "metadata": {},
   "outputs": [],
   "source": [
    "df_userlog_sequence = pickle.load(open('../data_sortout/df_userlog_sequence_less.pickle', 'rb'))"
   ]
  },
  {
   "cell_type": "code",
   "execution_count": 5,
   "metadata": {
    "code_folding": [],
    "scrolled": true
   },
   "outputs": [
    {
     "data": {
      "application/vnd.jupyter.widget-view+json": {
       "model_id": "25b0edf4bde348fb9f90db492aa1eae8",
       "version_major": 2,
       "version_minor": 0
      },
      "text/plain": [
       "HBox(children=(IntProgress(value=0, max=402033), HTML(value='')))"
      ]
     },
     "metadata": {},
     "output_type": "display_data"
    },
    {
     "name": "stdout",
     "output_type": "stream",
     "text": [
      "\n"
     ]
    }
   ],
   "source": [
    "pad_start_session = []\n",
    "userids = []\n",
    "start_token = '#'\n",
    "for i in tqdm(range(df_userlog_sequence.shape[0])):\n",
    "    se_item = df_userlog_sequence.iloc[i]\n",
    "    \n",
    "    session_ids = se_item['session_id']\n",
    "    \n",
    "    if(len(session_ids) == 0):\n",
    "        continue\n",
    "        \n",
    "    time_list, page_list, tgt_list = [start_token], [start_token], [start_token]\n",
    "    for j in range(len(session_ids)):\n",
    "        if (j > 0 and session_ids[j] != session_ids[j-1]):\n",
    "            time_list.append(start_token)\n",
    "            page_list.append(start_token)\n",
    "            tgt_list.append(start_token)\n",
    "        time_list.append(se_item['time'][j])\n",
    "        page_list.append(se_item['page'][j])\n",
    "        tgt_list.append(se_item['tgt_event_id'][j])\n",
    "\n",
    "    pad_start_session.append({\n",
    "        'time' : time_list,\n",
    "        'page' : page_list,\n",
    "        'tgt' : tgt_list,\n",
    "    })\n",
    "    userids.append(se_item.name)"
   ]
  },
  {
   "cell_type": "code",
   "execution_count": null,
   "metadata": {},
   "outputs": [],
   "source": [
    "df_userlog_sequence_start_token = pd.DataFrame(pad_start_session, index = userids)\n",
    "pickle.dump(df_userlog_sequence_start_token, open('../data_sortout/df_userlog_sequence_start_token.pickle', 'wb'))"
   ]
  },
  {
   "cell_type": "code",
   "execution_count": 7,
   "metadata": {},
   "outputs": [
    {
     "data": {
      "text/html": [
       "<div>\n",
       "<style scoped>\n",
       "    .dataframe tbody tr th:only-of-type {\n",
       "        vertical-align: middle;\n",
       "    }\n",
       "\n",
       "    .dataframe tbody tr th {\n",
       "        vertical-align: top;\n",
       "    }\n",
       "\n",
       "    .dataframe thead th {\n",
       "        text-align: right;\n",
       "    }\n",
       "</style>\n",
       "<table border=\"1\" class=\"dataframe\">\n",
       "  <thead>\n",
       "    <tr style=\"text-align: right;\">\n",
       "      <th></th>\n",
       "      <th>time</th>\n",
       "      <th>page</th>\n",
       "      <th>tgt</th>\n",
       "    </tr>\n",
       "  </thead>\n",
       "  <tbody>\n",
       "    <tr>\n",
       "      <th>8175</th>\n",
       "      <td>[#, 2019-02-06T23:46:33.440000000, 2019-02-06T...</td>\n",
       "      <td>[#, 15.0, nan, nan, 20.0, 17.0, 24.0, 24.0, 29...</td>\n",
       "      <td>[#, 57.0, nan, nan, 47.0, nan, nan, 45.0, 59.0...</td>\n",
       "    </tr>\n",
       "    <tr>\n",
       "      <th>2826</th>\n",
       "      <td>[#, 2019-01-09T09:32:19.808000000, 2019-01-09T...</td>\n",
       "      <td>[#, nan, 17.0, 17.0, 24.0, 29.0, 2.0, 16.0, 16...</td>\n",
       "      <td>[#, nan, 45.0, nan, 45.0, 59.0, nan, nan, nan,...</td>\n",
       "    </tr>\n",
       "    <tr>\n",
       "      <th>77490</th>\n",
       "      <td>[#, 2019-03-20T22:55:48.505000000, 2019-03-20T...</td>\n",
       "      <td>[#, nan, nan, 20.0, 24.0, 29.0, 29.0, 2.0, 2.0...</td>\n",
       "      <td>[#, nan, nan, 47.0, 45.0, 59.0, 39.0, nan, 37....</td>\n",
       "    </tr>\n",
       "    <tr>\n",
       "      <th>77490</th>\n",
       "      <td>[#, 2019-03-20T22:55:48.505000000, 2019-03-20T...</td>\n",
       "      <td>[#, nan, nan, 20.0, 24.0, 29.0, 29.0, 2.0, 2.0...</td>\n",
       "      <td>[#, nan, nan, 47.0, 45.0, 59.0, 39.0, nan, 37....</td>\n",
       "    </tr>\n",
       "    <tr>\n",
       "      <th>2119</th>\n",
       "      <td>[#, 2019-02-22T21:16:32.436000000, 2019-02-22T...</td>\n",
       "      <td>[#, 15.0, nan, nan, 20.0, 17.0, 17.0, 17.0, 17...</td>\n",
       "      <td>[#, 57.0, nan, nan, 47.0, 45.0, 45.0, nan, 45....</td>\n",
       "    </tr>\n",
       "    <tr>\n",
       "      <th>...</th>\n",
       "      <td>...</td>\n",
       "      <td>...</td>\n",
       "      <td>...</td>\n",
       "    </tr>\n",
       "    <tr>\n",
       "      <th>107763</th>\n",
       "      <td>[#, 2018-12-23T18:05:44.506000000, 2018-12-23T...</td>\n",
       "      <td>[#, 15.0, 29.0, 15.0, 29.0, 29.0, 20.0, nan, n...</td>\n",
       "      <td>[#, 57.0, 59.0, 57.0, 59.0, 59.0, 47.0, nan, n...</td>\n",
       "    </tr>\n",
       "    <tr>\n",
       "      <th>145737</th>\n",
       "      <td>[#, 2019-05-19T09:43:46.777000000, 2019-05-19T...</td>\n",
       "      <td>[#, 15.0, nan, 29.0, 20.0, 29.0, 25.0, 1.0, 1....</td>\n",
       "      <td>[#, 57.0, nan, 59.0, 47.0, 59.0, 35.0, nan, na...</td>\n",
       "    </tr>\n",
       "    <tr>\n",
       "      <th>102221</th>\n",
       "      <td>[#, 2018-12-04T08:05:43.017000000, 2018-12-04T...</td>\n",
       "      <td>[#, 15.0, 29.0, 29.0, 20.0, 24.0, 29.0, 29.0, ...</td>\n",
       "      <td>[#, 57.0, 59.0, 39.0, 47.0, 45.0, 49.0, 39.0, ...</td>\n",
       "    </tr>\n",
       "    <tr>\n",
       "      <th>48480</th>\n",
       "      <td>[#, 2018-12-24T13:13:56.082000000, 2018-12-24T...</td>\n",
       "      <td>[#, 2.0, 2.0, 17.0, 24.0, 29.0, 29.0, 8.0, 8.0...</td>\n",
       "      <td>[#, nan, 36.0, nan, 45.0, 39.0, 39.0, 36.0, 36...</td>\n",
       "    </tr>\n",
       "    <tr>\n",
       "      <th>123508</th>\n",
       "      <td>[#, 2019-02-21T12:53:17.955000000, 2019-02-21T...</td>\n",
       "      <td>[#, 15.0, 15.0, nan, nan, 20.0, nan, nan, 29.0...</td>\n",
       "      <td>[#, 57.0, 57.0, nan, nan, 47.0, nan, nan, 59.0...</td>\n",
       "    </tr>\n",
       "  </tbody>\n",
       "</table>\n",
       "<p>319977 rows × 3 columns</p>\n",
       "</div>"
      ],
      "text/plain": [
       "                                                     time  \\\n",
       "8175    [#, 2019-02-06T23:46:33.440000000, 2019-02-06T...   \n",
       "2826    [#, 2019-01-09T09:32:19.808000000, 2019-01-09T...   \n",
       "77490   [#, 2019-03-20T22:55:48.505000000, 2019-03-20T...   \n",
       "77490   [#, 2019-03-20T22:55:48.505000000, 2019-03-20T...   \n",
       "2119    [#, 2019-02-22T21:16:32.436000000, 2019-02-22T...   \n",
       "...                                                   ...   \n",
       "107763  [#, 2018-12-23T18:05:44.506000000, 2018-12-23T...   \n",
       "145737  [#, 2019-05-19T09:43:46.777000000, 2019-05-19T...   \n",
       "102221  [#, 2018-12-04T08:05:43.017000000, 2018-12-04T...   \n",
       "48480   [#, 2018-12-24T13:13:56.082000000, 2018-12-24T...   \n",
       "123508  [#, 2019-02-21T12:53:17.955000000, 2019-02-21T...   \n",
       "\n",
       "                                                     page  \\\n",
       "8175    [#, 15.0, nan, nan, 20.0, 17.0, 24.0, 24.0, 29...   \n",
       "2826    [#, nan, 17.0, 17.0, 24.0, 29.0, 2.0, 16.0, 16...   \n",
       "77490   [#, nan, nan, 20.0, 24.0, 29.0, 29.0, 2.0, 2.0...   \n",
       "77490   [#, nan, nan, 20.0, 24.0, 29.0, 29.0, 2.0, 2.0...   \n",
       "2119    [#, 15.0, nan, nan, 20.0, 17.0, 17.0, 17.0, 17...   \n",
       "...                                                   ...   \n",
       "107763  [#, 15.0, 29.0, 15.0, 29.0, 29.0, 20.0, nan, n...   \n",
       "145737  [#, 15.0, nan, 29.0, 20.0, 29.0, 25.0, 1.0, 1....   \n",
       "102221  [#, 15.0, 29.0, 29.0, 20.0, 24.0, 29.0, 29.0, ...   \n",
       "48480   [#, 2.0, 2.0, 17.0, 24.0, 29.0, 29.0, 8.0, 8.0...   \n",
       "123508  [#, 15.0, 15.0, nan, nan, 20.0, nan, nan, 29.0...   \n",
       "\n",
       "                                                      tgt  \n",
       "8175    [#, 57.0, nan, nan, 47.0, nan, nan, 45.0, 59.0...  \n",
       "2826    [#, nan, 45.0, nan, 45.0, 59.0, nan, nan, nan,...  \n",
       "77490   [#, nan, nan, 47.0, 45.0, 59.0, 39.0, nan, 37....  \n",
       "77490   [#, nan, nan, 47.0, 45.0, 59.0, 39.0, nan, 37....  \n",
       "2119    [#, 57.0, nan, nan, 47.0, 45.0, 45.0, nan, 45....  \n",
       "...                                                   ...  \n",
       "107763  [#, 57.0, 59.0, 57.0, 59.0, 59.0, 47.0, nan, n...  \n",
       "145737  [#, 57.0, nan, 59.0, 47.0, 59.0, 35.0, nan, na...  \n",
       "102221  [#, 57.0, 59.0, 39.0, 47.0, 45.0, 49.0, 39.0, ...  \n",
       "48480   [#, nan, 36.0, nan, 45.0, 39.0, 39.0, 36.0, 36...  \n",
       "123508  [#, 57.0, 57.0, nan, nan, 47.0, nan, nan, 59.0...  \n",
       "\n",
       "[319977 rows x 3 columns]"
      ]
     },
     "execution_count": 7,
     "metadata": {},
     "output_type": "execute_result"
    }
   ],
   "source": [
    "df_userlog_sequence_start_token"
   ]
  },
  {
   "cell_type": "code",
   "execution_count": null,
   "metadata": {},
   "outputs": [],
   "source": []
  }
 ],
 "metadata": {
  "kernelspec": {
   "display_name": "Python(hyr)\n",
   "language": "python",
   "name": "hyr"
  },
  "language_info": {
   "codemirror_mode": {
    "name": "ipython",
    "version": 3
   },
   "file_extension": ".py",
   "mimetype": "text/x-python",
   "name": "python",
   "nbconvert_exporter": "python",
   "pygments_lexer": "ipython3",
   "version": "3.6.9"
  },
  "toc": {
   "base_numbering": 1,
   "nav_menu": {},
   "number_sections": true,
   "sideBar": true,
   "skip_h1_title": false,
   "title_cell": "Table of Contents",
   "title_sidebar": "Contents",
   "toc_cell": false,
   "toc_position": {
    "height": "calc(100% - 180px)",
    "left": "10px",
    "top": "150px",
    "width": "349.087px"
   },
   "toc_section_display": true,
   "toc_window_display": true
  }
 },
 "nbformat": 4,
 "nbformat_minor": 4
}
